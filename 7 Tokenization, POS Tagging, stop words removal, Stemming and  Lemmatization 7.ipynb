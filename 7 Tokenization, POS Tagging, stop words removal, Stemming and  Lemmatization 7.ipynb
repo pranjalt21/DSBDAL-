{
 "cells": [
  {
   "cell_type": "code",
   "execution_count": 2,
   "id": "bea26866",
   "metadata": {},
   "outputs": [
    {
     "name": "stderr",
     "output_type": "stream",
     "text": [
      "[nltk_data] Downloading package stopwords to\n",
      "[nltk_data]     C:\\Users\\HP\\AppData\\Roaming\\nltk_data...\n",
      "[nltk_data]   Package stopwords is already up-to-date!\n",
      "[nltk_data] Downloading package punkt to\n",
      "[nltk_data]     C:\\Users\\HP\\AppData\\Roaming\\nltk_data...\n",
      "[nltk_data]   Package punkt is already up-to-date!\n",
      "[nltk_data] Downloading package wordnet to\n",
      "[nltk_data]     C:\\Users\\HP\\AppData\\Roaming\\nltk_data...\n",
      "[nltk_data]   Package wordnet is already up-to-date!\n",
      "[nltk_data] Downloading package averaged_perceptron_tagger to\n",
      "[nltk_data]     C:\\Users\\HP\\AppData\\Roaming\\nltk_data...\n",
      "[nltk_data]   Package averaged_perceptron_tagger is already up-to-\n",
      "[nltk_data]       date!\n"
     ]
    },
    {
     "data": {
      "text/plain": [
       "True"
      ]
     },
     "execution_count": 2,
     "metadata": {},
     "output_type": "execute_result"
    }
   ],
   "source": [
    "import nltk \n",
    "nltk.download( 'stopwords') \n",
    "nltk.download('punkt') \n",
    "nltk.download('wordnet') \n",
    "nltk.download('averaged_perceptron_tagger')"
   ]
  },
  {
   "cell_type": "code",
   "execution_count": 3,
   "id": "d8f29256",
   "metadata": {},
   "outputs": [],
   "source": [
    "import nltk"
   ]
  },
  {
   "cell_type": "code",
   "execution_count": 4,
   "id": "a5000f0a",
   "metadata": {},
   "outputs": [],
   "source": [
    "para ='Rajgad (literal meaning Ruling Fort) is a hill fort situated in the Pune district of Maharashtra, India. Formerly known as Murumdev, the fort was the capital of the Maratha Empire under the rule of Chatrapati Shivaji Maharaj for almost 26 years, after which the capital was moved to the Raigad Fort.[1] Treasures discovered from an adjacent fort called Torna were used to completely build and fortify the Rajgad Fort. '"
   ]
  },
  {
   "cell_type": "code",
   "execution_count": 5,
   "id": "53afe761",
   "metadata": {},
   "outputs": [
    {
     "name": "stdout",
     "output_type": "stream",
     "text": [
      "Rajgad (literal meaning Ruling Fort) is a hill fort situated in the Pune district of Maharashtra, India. Formerly known as Murumdev, the fort was the capital of the Maratha Empire under the rule of Chatrapati Shivaji Maharaj for almost 26 years, after which the capital was moved to the Raigad Fort.[1] Treasures discovered from an adjacent fort called Torna were used to completely build and fortify the Rajgad Fort. \n"
     ]
    }
   ],
   "source": [
    "print(para)"
   ]
  },
  {
   "cell_type": "code",
   "execution_count": 6,
   "id": "11c89a87",
   "metadata": {},
   "outputs": [
    {
     "data": {
      "text/plain": [
       "['Rajgad',\n",
       " '(literal',\n",
       " 'meaning',\n",
       " 'Ruling',\n",
       " 'Fort)',\n",
       " 'is',\n",
       " 'a',\n",
       " 'hill',\n",
       " 'fort',\n",
       " 'situated',\n",
       " 'in',\n",
       " 'the',\n",
       " 'Pune',\n",
       " 'district',\n",
       " 'of',\n",
       " 'Maharashtra,',\n",
       " 'India.',\n",
       " 'Formerly',\n",
       " 'known',\n",
       " 'as',\n",
       " 'Murumdev,',\n",
       " 'the',\n",
       " 'fort',\n",
       " 'was',\n",
       " 'the',\n",
       " 'capital',\n",
       " 'of',\n",
       " 'the',\n",
       " 'Maratha',\n",
       " 'Empire',\n",
       " 'under',\n",
       " 'the',\n",
       " 'rule',\n",
       " 'of',\n",
       " 'Chatrapati',\n",
       " 'Shivaji',\n",
       " 'Maharaj',\n",
       " 'for',\n",
       " 'almost',\n",
       " '26',\n",
       " 'years,',\n",
       " 'after',\n",
       " 'which',\n",
       " 'the',\n",
       " 'capital',\n",
       " 'was',\n",
       " 'moved',\n",
       " 'to',\n",
       " 'the',\n",
       " 'Raigad',\n",
       " 'Fort.[1]',\n",
       " 'Treasures',\n",
       " 'discovered',\n",
       " 'from',\n",
       " 'an',\n",
       " 'adjacent',\n",
       " 'fort',\n",
       " 'called',\n",
       " 'Torna',\n",
       " 'were',\n",
       " 'used',\n",
       " 'to',\n",
       " 'completely',\n",
       " 'build',\n",
       " 'and',\n",
       " 'fortify',\n",
       " 'the',\n",
       " 'Rajgad',\n",
       " 'Fort.']"
      ]
     },
     "execution_count": 6,
     "metadata": {},
     "output_type": "execute_result"
    }
   ],
   "source": [
    "para.split()"
   ]
  },
  {
   "cell_type": "code",
   "execution_count": 7,
   "id": "13c416f8",
   "metadata": {},
   "outputs": [],
   "source": [
    "from nltk.tokenize import sent_tokenize \n",
    "from nltk.tokenize import word_tokenize "
   ]
  },
  {
   "cell_type": "code",
   "execution_count": 8,
   "id": "95f2d430",
   "metadata": {},
   "outputs": [],
   "source": [
    "sent=sent_tokenize(para) "
   ]
  },
  {
   "cell_type": "code",
   "execution_count": 9,
   "id": "593ca5f9",
   "metadata": {},
   "outputs": [
    {
     "data": {
      "text/plain": [
       "'[1] Treasures discovered from an adjacent fort called Torna were used to completely build and fortify the Rajgad Fort.'"
      ]
     },
     "execution_count": 9,
     "metadata": {},
     "output_type": "execute_result"
    }
   ],
   "source": [
    "sent[2] "
   ]
  },
  {
   "cell_type": "code",
   "execution_count": 10,
   "id": "5280b9a1",
   "metadata": {},
   "outputs": [],
   "source": [
    "words=word_tokenize(para) "
   ]
  },
  {
   "cell_type": "code",
   "execution_count": 11,
   "id": "b1366e4b",
   "metadata": {},
   "outputs": [
    {
     "data": {
      "text/plain": [
       "['Rajgad',\n",
       " '(',\n",
       " 'literal',\n",
       " 'meaning',\n",
       " 'Ruling',\n",
       " 'Fort',\n",
       " ')',\n",
       " 'is',\n",
       " 'a',\n",
       " 'hill',\n",
       " 'fort',\n",
       " 'situated',\n",
       " 'in',\n",
       " 'the',\n",
       " 'Pune',\n",
       " 'district',\n",
       " 'of',\n",
       " 'Maharashtra',\n",
       " ',',\n",
       " 'India',\n",
       " '.',\n",
       " 'Formerly',\n",
       " 'known',\n",
       " 'as',\n",
       " 'Murumdev',\n",
       " ',',\n",
       " 'the',\n",
       " 'fort',\n",
       " 'was',\n",
       " 'the',\n",
       " 'capital',\n",
       " 'of',\n",
       " 'the',\n",
       " 'Maratha',\n",
       " 'Empire',\n",
       " 'under',\n",
       " 'the',\n",
       " 'rule',\n",
       " 'of',\n",
       " 'Chatrapati',\n",
       " 'Shivaji',\n",
       " 'Maharaj',\n",
       " 'for',\n",
       " 'almost',\n",
       " '26',\n",
       " 'years',\n",
       " ',',\n",
       " 'after',\n",
       " 'which',\n",
       " 'the',\n",
       " 'capital',\n",
       " 'was',\n",
       " 'moved',\n",
       " 'to',\n",
       " 'the',\n",
       " 'Raigad',\n",
       " 'Fort',\n",
       " '.',\n",
       " '[',\n",
       " '1',\n",
       " ']',\n",
       " 'Treasures',\n",
       " 'discovered',\n",
       " 'from',\n",
       " 'an',\n",
       " 'adjacent',\n",
       " 'fort',\n",
       " 'called',\n",
       " 'Torna',\n",
       " 'were',\n",
       " 'used',\n",
       " 'to',\n",
       " 'completely',\n",
       " 'build',\n",
       " 'and',\n",
       " 'fortify',\n",
       " 'the',\n",
       " 'Rajgad',\n",
       " 'Fort',\n",
       " '.']"
      ]
     },
     "execution_count": 11,
     "metadata": {},
     "output_type": "execute_result"
    }
   ],
   "source": [
    "words"
   ]
  },
  {
   "cell_type": "code",
   "execution_count": 12,
   "id": "b6187564",
   "metadata": {},
   "outputs": [],
   "source": [
    "from nltk.corpus import stopwords"
   ]
  },
  {
   "cell_type": "code",
   "execution_count": 13,
   "id": "0fdb81f6",
   "metadata": {},
   "outputs": [],
   "source": [
    "swords=stopwords.words( 'english')"
   ]
  },
  {
   "cell_type": "code",
   "execution_count": 14,
   "id": "98e3a65e",
   "metadata": {},
   "outputs": [
    {
     "data": {
      "text/plain": [
       "['i',\n",
       " 'me',\n",
       " 'my',\n",
       " 'myself',\n",
       " 'we',\n",
       " 'our',\n",
       " 'ours',\n",
       " 'ourselves',\n",
       " 'you',\n",
       " \"you're\",\n",
       " \"you've\",\n",
       " \"you'll\",\n",
       " \"you'd\",\n",
       " 'your',\n",
       " 'yours',\n",
       " 'yourself',\n",
       " 'yourselves',\n",
       " 'he',\n",
       " 'him',\n",
       " 'his',\n",
       " 'himself',\n",
       " 'she',\n",
       " \"she's\",\n",
       " 'her',\n",
       " 'hers',\n",
       " 'herself',\n",
       " 'it',\n",
       " \"it's\",\n",
       " 'its',\n",
       " 'itself',\n",
       " 'they',\n",
       " 'them',\n",
       " 'their',\n",
       " 'theirs',\n",
       " 'themselves',\n",
       " 'what',\n",
       " 'which',\n",
       " 'who',\n",
       " 'whom',\n",
       " 'this',\n",
       " 'that',\n",
       " \"that'll\",\n",
       " 'these',\n",
       " 'those',\n",
       " 'am',\n",
       " 'is',\n",
       " 'are',\n",
       " 'was',\n",
       " 'were',\n",
       " 'be',\n",
       " 'been',\n",
       " 'being',\n",
       " 'have',\n",
       " 'has',\n",
       " 'had',\n",
       " 'having',\n",
       " 'do',\n",
       " 'does',\n",
       " 'did',\n",
       " 'doing',\n",
       " 'a',\n",
       " 'an',\n",
       " 'the',\n",
       " 'and',\n",
       " 'but',\n",
       " 'if',\n",
       " 'or',\n",
       " 'because',\n",
       " 'as',\n",
       " 'until',\n",
       " 'while',\n",
       " 'of',\n",
       " 'at',\n",
       " 'by',\n",
       " 'for',\n",
       " 'with',\n",
       " 'about',\n",
       " 'against',\n",
       " 'between',\n",
       " 'into',\n",
       " 'through',\n",
       " 'during',\n",
       " 'before',\n",
       " 'after',\n",
       " 'above',\n",
       " 'below',\n",
       " 'to',\n",
       " 'from',\n",
       " 'up',\n",
       " 'down',\n",
       " 'in',\n",
       " 'out',\n",
       " 'on',\n",
       " 'off',\n",
       " 'over',\n",
       " 'under',\n",
       " 'again',\n",
       " 'further',\n",
       " 'then',\n",
       " 'once',\n",
       " 'here',\n",
       " 'there',\n",
       " 'when',\n",
       " 'where',\n",
       " 'why',\n",
       " 'how',\n",
       " 'all',\n",
       " 'any',\n",
       " 'both',\n",
       " 'each',\n",
       " 'few',\n",
       " 'more',\n",
       " 'most',\n",
       " 'other',\n",
       " 'some',\n",
       " 'such',\n",
       " 'no',\n",
       " 'nor',\n",
       " 'not',\n",
       " 'only',\n",
       " 'own',\n",
       " 'same',\n",
       " 'so',\n",
       " 'than',\n",
       " 'too',\n",
       " 'very',\n",
       " 's',\n",
       " 't',\n",
       " 'can',\n",
       " 'will',\n",
       " 'just',\n",
       " 'don',\n",
       " \"don't\",\n",
       " 'should',\n",
       " \"should've\",\n",
       " 'now',\n",
       " 'd',\n",
       " 'll',\n",
       " 'm',\n",
       " 'o',\n",
       " 're',\n",
       " 've',\n",
       " 'y',\n",
       " 'ain',\n",
       " 'aren',\n",
       " \"aren't\",\n",
       " 'couldn',\n",
       " \"couldn't\",\n",
       " 'didn',\n",
       " \"didn't\",\n",
       " 'doesn',\n",
       " \"doesn't\",\n",
       " 'hadn',\n",
       " \"hadn't\",\n",
       " 'hasn',\n",
       " \"hasn't\",\n",
       " 'haven',\n",
       " \"haven't\",\n",
       " 'isn',\n",
       " \"isn't\",\n",
       " 'ma',\n",
       " 'mightn',\n",
       " \"mightn't\",\n",
       " 'mustn',\n",
       " \"mustn't\",\n",
       " 'needn',\n",
       " \"needn't\",\n",
       " 'shan',\n",
       " \"shan't\",\n",
       " 'shouldn',\n",
       " \"shouldn't\",\n",
       " 'wasn',\n",
       " \"wasn't\",\n",
       " 'weren',\n",
       " \"weren't\",\n",
       " 'won',\n",
       " \"won't\",\n",
       " 'wouldn',\n",
       " \"wouldn't\"]"
      ]
     },
     "execution_count": 14,
     "metadata": {},
     "output_type": "execute_result"
    }
   ],
   "source": [
    "swords"
   ]
  },
  {
   "cell_type": "code",
   "execution_count": 15,
   "id": "9fa52620",
   "metadata": {},
   "outputs": [],
   "source": [
    "x=[word for word in words if word not in swords] "
   ]
  },
  {
   "cell_type": "code",
   "execution_count": 16,
   "id": "3991a625",
   "metadata": {},
   "outputs": [
    {
     "data": {
      "text/plain": [
       "['Rajgad',\n",
       " '(',\n",
       " 'literal',\n",
       " 'meaning',\n",
       " 'Ruling',\n",
       " 'Fort',\n",
       " ')',\n",
       " 'hill',\n",
       " 'fort',\n",
       " 'situated',\n",
       " 'Pune',\n",
       " 'district',\n",
       " 'Maharashtra',\n",
       " ',',\n",
       " 'India',\n",
       " '.',\n",
       " 'Formerly',\n",
       " 'known',\n",
       " 'Murumdev',\n",
       " ',',\n",
       " 'fort',\n",
       " 'capital',\n",
       " 'Maratha',\n",
       " 'Empire',\n",
       " 'rule',\n",
       " 'Chatrapati',\n",
       " 'Shivaji',\n",
       " 'Maharaj',\n",
       " 'almost',\n",
       " '26',\n",
       " 'years',\n",
       " ',',\n",
       " 'capital',\n",
       " 'moved',\n",
       " 'Raigad',\n",
       " 'Fort',\n",
       " '.',\n",
       " '[',\n",
       " '1',\n",
       " ']',\n",
       " 'Treasures',\n",
       " 'discovered',\n",
       " 'adjacent',\n",
       " 'fort',\n",
       " 'called',\n",
       " 'Torna',\n",
       " 'used',\n",
       " 'completely',\n",
       " 'build',\n",
       " 'fortify',\n",
       " 'Rajgad',\n",
       " 'Fort',\n",
       " '.']"
      ]
     },
     "execution_count": 16,
     "metadata": {},
     "output_type": "execute_result"
    }
   ],
   "source": [
    "x"
   ]
  },
  {
   "cell_type": "code",
   "execution_count": 17,
   "id": "7833779b",
   "metadata": {},
   "outputs": [],
   "source": [
    "x=[word for word in words if word.lower() not in swords] "
   ]
  },
  {
   "cell_type": "code",
   "execution_count": 18,
   "id": "f0240da5",
   "metadata": {},
   "outputs": [
    {
     "data": {
      "text/plain": [
       "['Rajgad',\n",
       " '(',\n",
       " 'literal',\n",
       " 'meaning',\n",
       " 'Ruling',\n",
       " 'Fort',\n",
       " ')',\n",
       " 'hill',\n",
       " 'fort',\n",
       " 'situated',\n",
       " 'Pune',\n",
       " 'district',\n",
       " 'Maharashtra',\n",
       " ',',\n",
       " 'India',\n",
       " '.',\n",
       " 'Formerly',\n",
       " 'known',\n",
       " 'Murumdev',\n",
       " ',',\n",
       " 'fort',\n",
       " 'capital',\n",
       " 'Maratha',\n",
       " 'Empire',\n",
       " 'rule',\n",
       " 'Chatrapati',\n",
       " 'Shivaji',\n",
       " 'Maharaj',\n",
       " 'almost',\n",
       " '26',\n",
       " 'years',\n",
       " ',',\n",
       " 'capital',\n",
       " 'moved',\n",
       " 'Raigad',\n",
       " 'Fort',\n",
       " '.',\n",
       " '[',\n",
       " '1',\n",
       " ']',\n",
       " 'Treasures',\n",
       " 'discovered',\n",
       " 'adjacent',\n",
       " 'fort',\n",
       " 'called',\n",
       " 'Torna',\n",
       " 'used',\n",
       " 'completely',\n",
       " 'build',\n",
       " 'fortify',\n",
       " 'Rajgad',\n",
       " 'Fort',\n",
       " '.']"
      ]
     },
     "execution_count": 18,
     "metadata": {},
     "output_type": "execute_result"
    }
   ],
   "source": [
    "x"
   ]
  },
  {
   "cell_type": "code",
   "execution_count": 19,
   "id": "16f94200",
   "metadata": {},
   "outputs": [],
   "source": [
    "from nltk.stem import PorterStemmer"
   ]
  },
  {
   "cell_type": "code",
   "execution_count": 20,
   "id": "bfcf6ab5",
   "metadata": {},
   "outputs": [],
   "source": [
    "ps=PorterStemmer()"
   ]
  },
  {
   "cell_type": "code",
   "execution_count": 21,
   "id": "9f88ffa8",
   "metadata": {},
   "outputs": [
    {
     "data": {
      "text/plain": [
       "'work'"
      ]
     },
     "execution_count": 21,
     "metadata": {},
     "output_type": "execute_result"
    }
   ],
   "source": [
    "ps.stem( 'working')"
   ]
  },
  {
   "cell_type": "code",
   "execution_count": 22,
   "id": "388c6320",
   "metadata": {},
   "outputs": [],
   "source": [
    "y=[ps.stem(word) for word in x] "
   ]
  },
  {
   "cell_type": "code",
   "execution_count": 23,
   "id": "0ac7ece2",
   "metadata": {},
   "outputs": [
    {
     "data": {
      "text/plain": [
       "['rajgad',\n",
       " '(',\n",
       " 'liter',\n",
       " 'mean',\n",
       " 'rule',\n",
       " 'fort',\n",
       " ')',\n",
       " 'hill',\n",
       " 'fort',\n",
       " 'situat',\n",
       " 'pune',\n",
       " 'district',\n",
       " 'maharashtra',\n",
       " ',',\n",
       " 'india',\n",
       " '.',\n",
       " 'formerli',\n",
       " 'known',\n",
       " 'murumdev',\n",
       " ',',\n",
       " 'fort',\n",
       " 'capit',\n",
       " 'maratha',\n",
       " 'empir',\n",
       " 'rule',\n",
       " 'chatrapati',\n",
       " 'shivaji',\n",
       " 'maharaj',\n",
       " 'almost',\n",
       " '26',\n",
       " 'year',\n",
       " ',',\n",
       " 'capit',\n",
       " 'move',\n",
       " 'raigad',\n",
       " 'fort',\n",
       " '.',\n",
       " '[',\n",
       " '1',\n",
       " ']',\n",
       " 'treasur',\n",
       " 'discov',\n",
       " 'adjac',\n",
       " 'fort',\n",
       " 'call',\n",
       " 'torna',\n",
       " 'use',\n",
       " 'complet',\n",
       " 'build',\n",
       " 'fortifi',\n",
       " 'rajgad',\n",
       " 'fort',\n",
       " '.']"
      ]
     },
     "execution_count": 23,
     "metadata": {},
     "output_type": "execute_result"
    }
   ],
   "source": [
    "y"
   ]
  },
  {
   "cell_type": "code",
   "execution_count": 24,
   "id": "b226a874",
   "metadata": {},
   "outputs": [],
   "source": [
    "from nltk.stem import WordNetLemmatizer"
   ]
  },
  {
   "cell_type": "code",
   "execution_count": 25,
   "id": "ada0b7ce",
   "metadata": {},
   "outputs": [],
   "source": [
    "wnl=WordNetLemmatizer()"
   ]
  },
  {
   "cell_type": "code",
   "execution_count": 26,
   "id": "5e64929f",
   "metadata": {},
   "outputs": [
    {
     "data": {
      "text/plain": [
       "'work'"
      ]
     },
     "execution_count": 26,
     "metadata": {},
     "output_type": "execute_result"
    }
   ],
   "source": [
    "wnl.lemmatize('working',pos='v') "
   ]
  },
  {
   "cell_type": "code",
   "execution_count": 27,
   "id": "ab1d29ce",
   "metadata": {},
   "outputs": [
    {
     "name": "stdout",
     "output_type": "stream",
     "text": [
      "went\n",
      "go\n"
     ]
    }
   ],
   "source": [
    "print(ps.stem('went')) \n",
    "print(wnl.lemmatize('went',pos='v')) "
   ]
  },
  {
   "cell_type": "code",
   "execution_count": 28,
   "id": "7a9e4cde",
   "metadata": {},
   "outputs": [],
   "source": [
    "z=[wnl.lemmatize(word,pos='v') for word in x] \n"
   ]
  },
  {
   "cell_type": "code",
   "execution_count": 29,
   "id": "da305636",
   "metadata": {},
   "outputs": [
    {
     "data": {
      "text/plain": [
       "['Rajgad',\n",
       " '(',\n",
       " 'literal',\n",
       " 'mean',\n",
       " 'Ruling',\n",
       " 'Fort',\n",
       " ')',\n",
       " 'hill',\n",
       " 'fort',\n",
       " 'situate',\n",
       " 'Pune',\n",
       " 'district',\n",
       " 'Maharashtra',\n",
       " ',',\n",
       " 'India',\n",
       " '.',\n",
       " 'Formerly',\n",
       " 'know',\n",
       " 'Murumdev',\n",
       " ',',\n",
       " 'fort',\n",
       " 'capital',\n",
       " 'Maratha',\n",
       " 'Empire',\n",
       " 'rule',\n",
       " 'Chatrapati',\n",
       " 'Shivaji',\n",
       " 'Maharaj',\n",
       " 'almost',\n",
       " '26',\n",
       " 'years',\n",
       " ',',\n",
       " 'capital',\n",
       " 'move',\n",
       " 'Raigad',\n",
       " 'Fort',\n",
       " '.',\n",
       " '[',\n",
       " '1',\n",
       " ']',\n",
       " 'Treasures',\n",
       " 'discover',\n",
       " 'adjacent',\n",
       " 'fort',\n",
       " 'call',\n",
       " 'Torna',\n",
       " 'use',\n",
       " 'completely',\n",
       " 'build',\n",
       " 'fortify',\n",
       " 'Rajgad',\n",
       " 'Fort',\n",
       " '.']"
      ]
     },
     "execution_count": 29,
     "metadata": {},
     "output_type": "execute_result"
    }
   ],
   "source": [
    "z"
   ]
  },
  {
   "cell_type": "code",
   "execution_count": 30,
   "id": "2e17a28e",
   "metadata": {},
   "outputs": [],
   "source": [
    "import string "
   ]
  },
  {
   "cell_type": "code",
   "execution_count": 31,
   "id": "db52a286",
   "metadata": {},
   "outputs": [
    {
     "data": {
      "text/plain": [
       "'!\"#$%&\\'()*+,-./:;<=>?@[\\\\]^_`{|}~'"
      ]
     },
     "execution_count": 31,
     "metadata": {},
     "output_type": "execute_result"
    }
   ],
   "source": [
    "string.punctuation "
   ]
  },
  {
   "cell_type": "code",
   "execution_count": 32,
   "id": "bbc42c8d",
   "metadata": {},
   "outputs": [],
   "source": [
    "t=[word for word in words if word not in string.punctuation] "
   ]
  },
  {
   "cell_type": "code",
   "execution_count": 33,
   "id": "28f8c467",
   "metadata": {},
   "outputs": [
    {
     "data": {
      "text/plain": [
       "['Rajgad',\n",
       " 'literal',\n",
       " 'meaning',\n",
       " 'Ruling',\n",
       " 'Fort',\n",
       " 'is',\n",
       " 'a',\n",
       " 'hill',\n",
       " 'fort',\n",
       " 'situated',\n",
       " 'in',\n",
       " 'the',\n",
       " 'Pune',\n",
       " 'district',\n",
       " 'of',\n",
       " 'Maharashtra',\n",
       " 'India',\n",
       " 'Formerly',\n",
       " 'known',\n",
       " 'as',\n",
       " 'Murumdev',\n",
       " 'the',\n",
       " 'fort',\n",
       " 'was',\n",
       " 'the',\n",
       " 'capital',\n",
       " 'of',\n",
       " 'the',\n",
       " 'Maratha',\n",
       " 'Empire',\n",
       " 'under',\n",
       " 'the',\n",
       " 'rule',\n",
       " 'of',\n",
       " 'Chatrapati',\n",
       " 'Shivaji',\n",
       " 'Maharaj',\n",
       " 'for',\n",
       " 'almost',\n",
       " '26',\n",
       " 'years',\n",
       " 'after',\n",
       " 'which',\n",
       " 'the',\n",
       " 'capital',\n",
       " 'was',\n",
       " 'moved',\n",
       " 'to',\n",
       " 'the',\n",
       " 'Raigad',\n",
       " 'Fort',\n",
       " '1',\n",
       " 'Treasures',\n",
       " 'discovered',\n",
       " 'from',\n",
       " 'an',\n",
       " 'adjacent',\n",
       " 'fort',\n",
       " 'called',\n",
       " 'Torna',\n",
       " 'were',\n",
       " 'used',\n",
       " 'to',\n",
       " 'completely',\n",
       " 'build',\n",
       " 'and',\n",
       " 'fortify',\n",
       " 'the',\n",
       " 'Rajgad',\n",
       " 'Fort']"
      ]
     },
     "execution_count": 33,
     "metadata": {},
     "output_type": "execute_result"
    }
   ],
   "source": [
    "t"
   ]
  },
  {
   "cell_type": "code",
   "execution_count": 34,
   "id": "f235e969",
   "metadata": {},
   "outputs": [],
   "source": [
    "from nltk import pos_tag "
   ]
  },
  {
   "cell_type": "code",
   "execution_count": 35,
   "id": "48e2f4b7",
   "metadata": {},
   "outputs": [
    {
     "data": {
      "text/plain": [
       "[('Rajgad', 'NNP'),\n",
       " ('literal', 'JJ'),\n",
       " ('meaning', 'NN'),\n",
       " ('Ruling', 'NNP'),\n",
       " ('Fort', 'NNP'),\n",
       " ('is', 'VBZ'),\n",
       " ('a', 'DT'),\n",
       " ('hill', 'NN'),\n",
       " ('fort', 'NN'),\n",
       " ('situated', 'VBN'),\n",
       " ('in', 'IN'),\n",
       " ('the', 'DT'),\n",
       " ('Pune', 'NNP'),\n",
       " ('district', 'NN'),\n",
       " ('of', 'IN'),\n",
       " ('Maharashtra', 'NNP'),\n",
       " ('India', 'NNP'),\n",
       " ('Formerly', 'RB'),\n",
       " ('known', 'VBN'),\n",
       " ('as', 'IN'),\n",
       " ('Murumdev', 'NNP'),\n",
       " ('the', 'DT'),\n",
       " ('fort', 'NN'),\n",
       " ('was', 'VBD'),\n",
       " ('the', 'DT'),\n",
       " ('capital', 'NN'),\n",
       " ('of', 'IN'),\n",
       " ('the', 'DT'),\n",
       " ('Maratha', 'NNP'),\n",
       " ('Empire', 'NNP'),\n",
       " ('under', 'IN'),\n",
       " ('the', 'DT'),\n",
       " ('rule', 'NN'),\n",
       " ('of', 'IN'),\n",
       " ('Chatrapati', 'NNP'),\n",
       " ('Shivaji', 'NNP'),\n",
       " ('Maharaj', 'NNP'),\n",
       " ('for', 'IN'),\n",
       " ('almost', 'RB'),\n",
       " ('26', 'CD'),\n",
       " ('years', 'NNS'),\n",
       " ('after', 'IN'),\n",
       " ('which', 'WDT'),\n",
       " ('the', 'DT'),\n",
       " ('capital', 'NN'),\n",
       " ('was', 'VBD'),\n",
       " ('moved', 'VBN'),\n",
       " ('to', 'TO'),\n",
       " ('the', 'DT'),\n",
       " ('Raigad', 'NNP'),\n",
       " ('Fort', 'NNP'),\n",
       " ('1', 'CD'),\n",
       " ('Treasures', 'NNS'),\n",
       " ('discovered', 'VBN'),\n",
       " ('from', 'IN'),\n",
       " ('an', 'DT'),\n",
       " ('adjacent', 'JJ'),\n",
       " ('fort', 'NN'),\n",
       " ('called', 'VBN'),\n",
       " ('Torna', 'NNP'),\n",
       " ('were', 'VBD'),\n",
       " ('used', 'VBN'),\n",
       " ('to', 'TO'),\n",
       " ('completely', 'RB'),\n",
       " ('build', 'VB'),\n",
       " ('and', 'CC'),\n",
       " ('fortify', 'VB'),\n",
       " ('the', 'DT'),\n",
       " ('Rajgad', 'NNP'),\n",
       " ('Fort', 'NNP')]"
      ]
     },
     "execution_count": 35,
     "metadata": {},
     "output_type": "execute_result"
    }
   ],
   "source": [
    "pos_tag(t)"
   ]
  },
  {
   "cell_type": "code",
   "execution_count": 36,
   "id": "d3873625",
   "metadata": {},
   "outputs": [],
   "source": [
    "from sklearn.feature_extraction.text import TfidfVectorizer "
   ]
  },
  {
   "cell_type": "code",
   "execution_count": 38,
   "id": "2bf70c9d",
   "metadata": {},
   "outputs": [],
   "source": [
    "tfidf = TfidfVectorizer() "
   ]
  },
  {
   "cell_type": "code",
   "execution_count": 39,
   "id": "532dae84",
   "metadata": {},
   "outputs": [],
   "source": [
    "v=tfidf.fit_transform(t) "
   ]
  },
  {
   "cell_type": "code",
   "execution_count": 40,
   "id": "887b2d18",
   "metadata": {},
   "outputs": [
    {
     "data": {
      "text/plain": [
       "(70, 50)"
      ]
     },
     "execution_count": 40,
     "metadata": {},
     "output_type": "execute_result"
    }
   ],
   "source": [
    "v.shape"
   ]
  },
  {
   "cell_type": "code",
   "execution_count": 41,
   "id": "ad145ff9",
   "metadata": {},
   "outputs": [
    {
     "data": {
      "text/html": [
       "<div>\n",
       "<style scoped>\n",
       "    .dataframe tbody tr th:only-of-type {\n",
       "        vertical-align: middle;\n",
       "    }\n",
       "\n",
       "    .dataframe tbody tr th {\n",
       "        vertical-align: top;\n",
       "    }\n",
       "\n",
       "    .dataframe thead th {\n",
       "        text-align: right;\n",
       "    }\n",
       "</style>\n",
       "<table border=\"1\" class=\"dataframe\">\n",
       "  <thead>\n",
       "    <tr style=\"text-align: right;\">\n",
       "      <th></th>\n",
       "      <th>0</th>\n",
       "    </tr>\n",
       "  </thead>\n",
       "  <tbody>\n",
       "    <tr>\n",
       "      <th>0</th>\n",
       "      <td>(0, 35)\\t1.0</td>\n",
       "    </tr>\n",
       "    <tr>\n",
       "      <th>1</th>\n",
       "      <td>(0, 25)\\t1.0</td>\n",
       "    </tr>\n",
       "    <tr>\n",
       "      <th>2</th>\n",
       "      <td>(0, 29)\\t1.0</td>\n",
       "    </tr>\n",
       "    <tr>\n",
       "      <th>3</th>\n",
       "      <td>(0, 37)\\t1.0</td>\n",
       "    </tr>\n",
       "    <tr>\n",
       "      <th>4</th>\n",
       "      <td>(0, 17)\\t1.0</td>\n",
       "    </tr>\n",
       "    <tr>\n",
       "      <th>...</th>\n",
       "      <td>...</td>\n",
       "    </tr>\n",
       "    <tr>\n",
       "      <th>65</th>\n",
       "      <td>(0, 5)\\t1.0</td>\n",
       "    </tr>\n",
       "    <tr>\n",
       "      <th>66</th>\n",
       "      <td>(0, 18)\\t1.0</td>\n",
       "    </tr>\n",
       "    <tr>\n",
       "      <th>67</th>\n",
       "      <td>(0, 40)\\t1.0</td>\n",
       "    </tr>\n",
       "    <tr>\n",
       "      <th>68</th>\n",
       "      <td>(0, 35)\\t1.0</td>\n",
       "    </tr>\n",
       "    <tr>\n",
       "      <th>69</th>\n",
       "      <td>(0, 17)\\t1.0</td>\n",
       "    </tr>\n",
       "  </tbody>\n",
       "</table>\n",
       "<p>70 rows × 1 columns</p>\n",
       "</div>"
      ],
      "text/plain": [
       "                 0\n",
       "0     (0, 35)\\t1.0\n",
       "1     (0, 25)\\t1.0\n",
       "2     (0, 29)\\t1.0\n",
       "3     (0, 37)\\t1.0\n",
       "4     (0, 17)\\t1.0\n",
       "..             ...\n",
       "65     (0, 5)\\t1.0\n",
       "66    (0, 18)\\t1.0\n",
       "67    (0, 40)\\t1.0\n",
       "68    (0, 35)\\t1.0\n",
       "69    (0, 17)\\t1.0\n",
       "\n",
       "[70 rows x 1 columns]"
      ]
     },
     "execution_count": 41,
     "metadata": {},
     "output_type": "execute_result"
    }
   ],
   "source": [
    "import pandas as pd \n",
    "pd.DataFrame(v) "
   ]
  },
  {
   "cell_type": "code",
   "execution_count": null,
   "id": "eef6069d",
   "metadata": {},
   "outputs": [],
   "source": []
  }
 ],
 "metadata": {
  "kernelspec": {
   "display_name": "Python 3 (ipykernel)",
   "language": "python",
   "name": "python3"
  },
  "language_info": {
   "codemirror_mode": {
    "name": "ipython",
    "version": 3
   },
   "file_extension": ".py",
   "mimetype": "text/x-python",
   "name": "python",
   "nbconvert_exporter": "python",
   "pygments_lexer": "ipython3",
   "version": "3.9.13"
  }
 },
 "nbformat": 4,
 "nbformat_minor": 5
}
